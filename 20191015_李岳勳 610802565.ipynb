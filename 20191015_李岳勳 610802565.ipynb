{
 "cells": [
  {
   "cell_type": "code",
   "execution_count": 3,
   "metadata": {},
   "outputs": [
    {
     "name": "stdout",
     "output_type": "stream",
     "text": [
      "請輸入成績50\n",
      "丁等\n"
     ]
    }
   ],
   "source": [
    "a=int(input(\"請輸入成績\"))\n",
    "if a>90:\n",
    "    print(\"優等\")\n",
    "elif a<90 and a>=80:\n",
    "    print(\"甲等\")\n",
    "elif a<80 and a>=70:\n",
    "    print(\"乙等\")\n",
    "elif a<70 and a>=60:\n",
    "    print(\"丙等\")\n",
    "else:\n",
    "    print(\"丁等\")"
   ]
  },
  {
   "cell_type": "code",
   "execution_count": 9,
   "metadata": {},
   "outputs": [
    {
     "name": "stdout",
     "output_type": "stream",
     "text": [
      "請輸入正整數:5\n",
      "1 2 3 4 "
     ]
    }
   ],
   "source": [
    "a=int(input(\"請輸入正整數:\"))\n",
    "for i in range(a):\n",
    "    if i%5==0:\n",
    "        continue\n",
    "    else:\n",
    "        print(i,end=\" \")"
   ]
  },
  {
   "cell_type": "code",
   "execution_count": 23,
   "metadata": {},
   "outputs": [
    {
     "name": "stdout",
     "output_type": "stream",
     "text": [
      "請輸入正整數n的值:10\n",
      "3628800\n"
     ]
    }
   ],
   "source": [
    "a=int(input(\"請輸入正整數n的值:\"))\n",
    "total=n=1\n",
    "while(n<a):\n",
    "    n=n+1\n",
    "    total=total*n\n",
    "print(total)"
   ]
  },
  {
   "cell_type": "code",
   "execution_count": 25,
   "metadata": {},
   "outputs": [
    {
     "name": "stdout",
     "output_type": "stream",
     "text": [
      "國文成績:85分\n",
      "英文成績:79分\n",
      "數學成績:93分\n"
     ]
    }
   ],
   "source": [
    "subject=[\"國文\",\"英文\",\"數學\"]\n",
    "score=[\"85\",\"79\",\"93\"]\n",
    "\n",
    "for i in range(len(score)):\n",
    "    print(\"%s成績:%s分\"%(subject[i],score[i]))"
   ]
  },
  {
   "cell_type": "code",
   "execution_count": null,
   "metadata": {},
   "outputs": [],
   "source": [
    "a=input(\"請輸入要查詢的血型:\")\n",
    "dict={\"A型\":\"小\",\"B型\":\"大\",\"O型\":\"普通\"}\n",
    "if a in dict."
   ]
  }
 ],
 "metadata": {
  "kernelspec": {
   "display_name": "Python 3",
   "language": "python",
   "name": "python3"
  },
  "language_info": {
   "codemirror_mode": {
    "name": "ipython",
    "version": 3
   },
   "file_extension": ".py",
   "mimetype": "text/x-python",
   "name": "python",
   "nbconvert_exporter": "python",
   "pygments_lexer": "ipython3",
   "version": "3.7.3"
  }
 },
 "nbformat": 4,
 "nbformat_minor": 2
}
